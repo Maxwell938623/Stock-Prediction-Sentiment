{
  "nbformat": 4,
  "nbformat_minor": 0,
  "metadata": {
    "colab": {
      "provenance": [],
      "gpuType": "T4"
    },
    "kernelspec": {
      "name": "python3",
      "display_name": "Python 3"
    },
    "language_info": {
      "name": "python"
    },
    "accelerator": "GPU"
  },
  "cells": [
    {
      "cell_type": "code",
      "execution_count": null,
      "metadata": {
        "id": "kayBAwZv__SD"
      },
      "outputs": [],
      "source": [
        "from google.colab import drive\n",
        "drive.mount('/content/drive')"
      ]
    },
    {
      "cell_type": "code",
      "execution_count": null,
      "metadata": {
        "colab": {
          "base_uri": "https://localhost:8080/"
        },
        "id": "9_m5FXsg35ua",
        "outputId": "54bd4a16-0ebc-4ac4-b8bd-27574e4ddf1d"
      },
      "outputs": [
        {
          "output_type": "stream",
          "name": "stdout",
          "text": [
            "[*********************100%***********************]  1 of 1 completed\n",
            "[*********************100%***********************]  1 of 1 completed\n",
            "[*********************100%***********************]  1 of 1 completed\n",
            "[*********************100%***********************]  1 of 1 completed\n",
            "[*********************100%***********************]  1 of 1 completed\n",
            "[*********************100%***********************]  1 of 1 completed\n",
            "[*********************100%***********************]  1 of 1 completed\n",
            "[*********************100%***********************]  1 of 1 completed\n",
            "[*********************100%***********************]  1 of 1 completed\n",
            "[*********************100%***********************]  1 of 1 completed"
          ]
        },
        {
          "output_type": "stream",
          "name": "stderr",
          "text": [
            "ERROR \n",
            "1 Failed download:\n",
            "ERROR:yfinance:\n",
            "1 Failed download:\n",
            "ERROR ['NASDAQ']: Exception('NASDAQ: 1d data not available for startTime=-2208994789 and endTime=1687721949. Only 100 years worth of day granularity data are allowed to be fetched per request.')\n",
            "ERROR:yfinance:['NASDAQ']: Exception('NASDAQ: 1d data not available for startTime=-2208994789 and endTime=1687721949. Only 100 years worth of day granularity data are allowed to be fetched per request.')\n"
          ]
        },
        {
          "output_type": "stream",
          "name": "stdout",
          "text": [
            "\n"
          ]
        }
      ],
      "source": [
        "#Create a csv file for all the historical data of all the related stocks\n",
        "\n",
        "for element in Competitors:\n",
        "  df = yf.download(element)\n",
        "  df.reset_index(inplace=True)\n",
        "  df['Date'] = pd.to_datetime(df['Date'], format='%d-%m-%Y')\n",
        "  df.to_csv(element + 'output.csv', index=False)\n",
        "\n",
        "for element in RelatedListNonIndex:\n",
        "  df = yf.download(element)\n",
        "  df.reset_index(inplace=True)\n",
        "  df['Date'] = pd.to_datetime(df['Date'], format='%d-%m-%Y')\n",
        "  df.to_csv(element + 'output.csv', index=False)\n",
        "\n",
        "for element in RelatedListIndex:\n",
        "  df = yf.download(element)\n",
        "  df.reset_index(inplace=True)\n",
        "  df['Date'] = pd.to_datetime(df['Date'], format='%d-%m-%Y')\n",
        "  df.to_csv(element + 'output.csv', index=False)"
      ]
    },
    {
      "cell_type": "code",
      "execution_count": null,
      "metadata": {
        "id": "-KNAHjEl0Upk"
      },
      "outputs": [],
      "source": [
        "from pandas_datareader import data\n",
        "import yfinance as yf\n",
        "import matplotlib.pyplot as plt\n",
        "import pandas as pd\n",
        "import datetime as dt\n",
        "import urllib.request, json\n",
        "import os\n",
        "import numpy as np\n",
        "import tensorflow as tf\n",
        "from sklearn.preprocessing import MinMaxScaler\n",
        "import math\n",
        "import numpy as np\n",
        "import pandas as pd\n",
        "from datetime import date, timedelta, datetime\n",
        "from pandas.plotting import register_matplotlib_converters\n",
        "import matplotlib.pyplot as plt\n",
        "import matplotlib.dates as mdates\n",
        "import tensorflow as tf\n",
        "from sklearn.metrics import mean_absolute_error, mean_squared_error\n",
        "from tensorflow.keras import Sequential\n",
        "from tensorflow.keras.layers import LSTM, Dense, Dropout\n",
        "from tensorflow.keras.callbacks import EarlyStopping\n",
        "from sklearn.preprocessing import RobustScaler, MinMaxScaler\n",
        "import seaborn as sns"
      ]
    },
    {
      "cell_type": "markdown",
      "metadata": {
        "id": "3Yjt68Wf4kZQ"
      },
      "source": [
        "Companies | Source\n",
        "--- | ----\n",
        "KLA-Tencor, Tokyo Electron, Lam Research, and Arrow Electronics. | [Forbes](https://www.forbes.com/sites/greatspeculations/2019/08/30/understanding-applied-materials-business-model-and-performance-across-segments/?sh=1f41943276f4)\n",
        "Intel | [AMAT](https://www.appliedmaterials.com/us/en/blog/blog-posts/applied-materials-earns-intels-2022-epic-outstanding-supplier-award.html)"
      ]
    },
    {
      "cell_type": "code",
      "execution_count": null,
      "metadata": {
        "id": "nSnYU74_viAg"
      },
      "outputs": [],
      "source": [
        "#Define company list\n",
        "\n",
        "Competitors = [\"KLAC\", \"TOELY\", \"LRCX\", \"ARW\"]   # similar companies\n",
        "RelatedListNonIndex = [\"TSM\",\"INTC\", \"NVDA\", \"AMD\", \"MU\"]   # companies Applied Materials supplies to\n",
        "RelatedListIndex = [\"SOXX\", \"NASDAQ\"] # aggregates: semi-conductors, tech"
      ]
    },
    {
      "cell_type": "code",
      "execution_count": null,
      "metadata": {
        "id": "VAMGdxNA7Xby"
      },
      "outputs": [],
      "source": [
        "#create a new file\n",
        "\n",
        "def create_file(name):\n",
        "  file = open(name, \"w\")  # Open file in write mode\n",
        "  file.write(\"\")\n",
        "  file.close()"
      ]
    },
    {
      "cell_type": "code",
      "execution_count": null,
      "metadata": {
        "id": "jv9o9npXcRPY"
      },
      "outputs": [],
      "source": [
        "#read text from a file\n",
        "\n",
        "def read_file(name):\n",
        "  file = open(name, \"r\")  # Open file in read mode\n",
        "  content = file.read()  # Read the entire content of the file\n",
        "  file.close()\n",
        "  return content"
      ]
    },
    {
      "cell_type": "code",
      "execution_count": null,
      "metadata": {
        "id": "PUR_XTmwcO_l"
      },
      "outputs": [],
      "source": [
        "#append text to a file\n",
        "\n",
        "def append_file(name, text):\n",
        "  file = open(name, \"a\")  # Open file in append mode\n",
        "  file.writelines(','.join(text))  # Append content to the file\n",
        "  file.write(\"\\n\")\n",
        "  file.close()"
      ]
    },
    {
      "cell_type": "code",
      "execution_count": null,
      "metadata": {
        "id": "QSON5zWOdbVP"
      },
      "outputs": [],
      "source": [
        "#Update the peratio file\n",
        "create_file(\"PEratio.csv\")\n",
        "\n",
        "def update_peratio():\n",
        "  dayList = []\n",
        "  for element in Competitors:\n",
        "    tick = yf.Ticker(element)\n",
        "    stockDataList = []\n",
        "    stockDataList.append(str(datetime.date.today()))\n",
        "    stockDataList.append(element)\n",
        "    stockDataList.append(\"No\")\n",
        "    if 'trailingPE' in tick.info:\n",
        "      stockDataList.append(str(tick.info[\"trailingPE\"]))\n",
        "    else:\n",
        "      stockDataList.append(\"N/A\")\n",
        "    if 'forwardPE' in tick.info:\n",
        "      stockDataList.append(str(tick.info[\"forwardPE\"]))\n",
        "    else:\n",
        "      stockDataList.append(\"N/A\")\n",
        "    dayList.append(stockDataList)\n",
        "\n",
        "  for element in RelatedListNonIndex:\n",
        "    tick = yf.Ticker(element)\n",
        "    stockDataList = []\n",
        "    stockDataList.append(str(datetime.date.today()))\n",
        "    stockDataList.append(element)\n",
        "    stockDataList.append(\"No\")\n",
        "    if 'trailingPE' in tick.info:\n",
        "      stockDataList.append(str(tick.info[\"trailingPE\"]))\n",
        "    else:\n",
        "      stockDataList.append(\"N/A\")\n",
        "    if 'forwardPE' in tick.info:\n",
        "      stockDataList.append(str(tick.info[\"forwardPE\"]))\n",
        "    else:\n",
        "      stockDataList.append(\"N/A\")\n",
        "    dayList.append(stockDataList)\n",
        "\n",
        "  for element in RelatedListIndex:\n",
        "    tick = yf.Ticker(element)\n",
        "    stockDataList = []\n",
        "    stockDataList.append(str(datetime.date.today()))\n",
        "    stockDataList.append(element)\n",
        "    stockDataList.append(\"Yes\")\n",
        "    if 'trailingPE' in tick.info:\n",
        "      stockDataList.append(str(tick.info[\"trailingPE\"]))\n",
        "    else:\n",
        "      stockDataList.append(\"N/A\")\n",
        "    if 'forwardPE' in tick.info:\n",
        "      stockDataList.append(str(tick.info[\"forwardPE\"]))\n",
        "    else:\n",
        "      stockDataList.append(\"N/A\")\n",
        "    dayList.append(stockDataList)\n",
        "  return dayList\n",
        "\n",
        "labels = [\"Date\", \"Ticker\", \"Is Index\", \"TrailingPE\", \"ForwardPE\"]\n",
        "append_file(\"PEratio.csv\", labels)\n",
        "dataFrame = update_peratio()\n",
        "for i in range (len(dataFrame)):\n",
        "  append_file(\"PEratio.csv\", dataFrame[i])"
      ]
    },
    {
      "cell_type": "code",
      "source": [
        "start_date = dt.datetime.now() - dt.timedelta(days=365 * 13+170)\n",
        "end_date = dt.datetime.now()\n",
        "\n",
        "for element in Competitors:\n",
        "\n",
        "  df = yf.download(element, start=start_date, end=end_date)\n",
        "\n",
        "  df.reset_index(inplace=True)\n",
        "\n",
        "  df['Date'] = pd.to_datetime(df['Date'], format='%d-%m-%Y')\n",
        "  df['50_day_ma'] = df['Close'].rolling(window=50).mean()\n",
        "  df['200_day_ma'] = df['Close'].rolling(window=200).mean()\n",
        "  df['10_day_vol_avg'] = df['Volume'].rolling(window=10).mean()\n",
        "  df['90_day_vol_avg'] = df['Volume'].rolling(window=90).mean()\n",
        "\n",
        "  df = df[['Date', 'Open', 'High', 'Low', 'Close', 'Adj Close', 'Volume', '50_day_ma', '200_day_ma', '10_day_vol_avg', '90_day_vol_avg']]\n",
        "\n",
        "  print(df)\n",
        "\n",
        "df.to_csv('AMAToutput.csv', index=False)\n",
        "\n",
        "print(df)"
      ],
      "metadata": {
        "colab": {
          "base_uri": "https://localhost:8080/"
        },
        "id": "BsppfX_8uYaw",
        "outputId": "4b3d65b0-a858-4811-97a1-a6a06616aa65"
      },
      "execution_count": null,
      "outputs": [
        {
          "output_type": "stream",
          "name": "stdout",
          "text": [
            "[*********************100%***********************]  1 of 1 completed\n",
            "           Date        Open        High         Low       Close   Adj Close  \\\n",
            "0    2010-01-13   35.889999   36.270000   34.950001   36.090000   20.883665   \n",
            "1    2010-01-14   35.730000   35.950001   34.810001   35.000000   20.252934   \n",
            "2    2010-01-15   34.930000   35.240002   33.270000   33.340000   19.292366   \n",
            "3    2010-01-19   33.480000   33.770000   33.200001   33.639999   19.465969   \n",
            "4    2010-01-20   33.299999   33.340000   32.619999   33.230000   19.228718   \n",
            "...         ...         ...         ...         ...         ...         ...   \n",
            "3382 2023-06-22  453.049988  467.890015  452.959991  467.380005  467.380005   \n",
            "3383 2023-06-23  457.500000  459.950012  454.589996  456.950012  456.950012   \n",
            "3384 2023-06-26  458.100006  468.350006  458.100006  458.549988  458.549988   \n",
            "3385 2023-06-27  460.220001  478.630005  460.220001  476.929993  476.929993   \n",
            "3386 2023-06-28  470.410004  477.559998  469.519989  474.429993  474.429993   \n",
            "\n",
            "       Volume   50_day_ma  200_day_ma  10_day_vol_avg  90_day_vol_avg  \n",
            "0     3969500         NaN         NaN             NaN             NaN  \n",
            "1     5867400         NaN         NaN             NaN             NaN  \n",
            "2     6721000         NaN         NaN             NaN             NaN  \n",
            "3     4374500         NaN         NaN             NaN             NaN  \n",
            "4     4605900         NaN         NaN             NaN             NaN  \n",
            "...       ...         ...         ...             ...             ...  \n",
            "3382   749700  415.351002   378.55250       1037440.0    1.062641e+06  \n",
            "3383   828900  417.087202   379.18435       1025240.0    1.057953e+06  \n",
            "3384   615300  418.770401   379.78800        980220.0    1.049757e+06  \n",
            "3385   863800  420.808201   380.41720        947210.0    1.048906e+06  \n",
            "3386   730600  422.854601   380.99600        944990.0    1.042194e+06  \n",
            "\n",
            "[3387 rows x 11 columns]\n",
            "[*********************100%***********************]  1 of 1 completed\n",
            "           Date       Open       High        Low      Close  Adj Close  \\\n",
            "0    2010-01-13  10.583333  10.583333  10.562500  10.562500  10.562500   \n",
            "1    2010-01-14  10.875000  10.875000  10.875000  10.875000  10.875000   \n",
            "2    2010-01-15  10.875000  10.875000  10.875000  10.875000  10.875000   \n",
            "3    2010-01-19  10.816667  10.816667  10.816667  10.816667  10.816667   \n",
            "4    2010-01-20  10.520833  10.520833  10.520833  10.520833  10.520833   \n",
            "...         ...        ...        ...        ...        ...        ...   \n",
            "3382 2023-06-22  69.000000  70.000000  68.129997  69.680000  69.680000   \n",
            "3383 2023-06-23  68.230003  68.570000  68.050003  68.169998  68.169998   \n",
            "3384 2023-06-26  68.400002  68.970001  68.269997  68.510002  68.510002   \n",
            "3385 2023-06-27  68.550003  70.139999  68.550003  69.889999  69.889999   \n",
            "3386 2023-06-28  69.669998  70.690002  69.660004  70.050003  70.050003   \n",
            "\n",
            "      Volume  50_day_ma  200_day_ma  10_day_vol_avg  90_day_vol_avg  \n",
            "0       4800        NaN         NaN             NaN             NaN  \n",
            "1       3600        NaN         NaN             NaN             NaN  \n",
            "2          0        NaN         NaN             NaN             NaN  \n",
            "3       2400        NaN         NaN             NaN             NaN  \n",
            "4       6000        NaN         NaN             NaN             NaN  \n",
            "...      ...        ...         ...             ...             ...  \n",
            "3382  408900  63.641601   55.692500        213960.0   124953.333333  \n",
            "3383  337500  63.826201   55.784950        237240.0   127820.000000  \n",
            "3384  135100  64.004801   55.882467        227730.0   128467.777778  \n",
            "3385  119700  64.253801   55.985450        222940.0   128801.111111  \n",
            "3386  117200  64.511601   56.081400        213840.0   129426.666667  \n",
            "\n",
            "[3387 rows x 11 columns]\n",
            "[*********************100%***********************]  1 of 1 completed\n",
            "           Date        Open        High         Low       Close   Adj Close  \\\n",
            "0    2010-01-13   39.000000   39.160000   37.680000   38.860001   33.866817   \n",
            "1    2010-01-14   38.669998   38.919998   38.000000   38.340000   33.413643   \n",
            "2    2010-01-15   38.470001   38.490002   36.630001   36.820000   32.088932   \n",
            "3    2010-01-19   36.939999   37.270000   36.680000   37.040001   32.280674   \n",
            "4    2010-01-20   36.599998   37.130001   35.939999   37.000000   32.245811   \n",
            "...         ...         ...         ...         ...         ...         ...   \n",
            "3382 2023-06-22  601.099976  624.479980  598.419983  619.869995  619.869995   \n",
            "3383 2023-06-23  609.500000  611.349976  601.369995  608.760010  608.760010   \n",
            "3384 2023-06-26  614.150024  633.409973  613.690002  620.330017  620.330017   \n",
            "3385 2023-06-27  623.739990  650.229980  622.010010  649.159973  649.159973   \n",
            "3386 2023-06-28  639.989990  649.669983  635.969971  642.179993  642.179993   \n",
            "\n",
            "       Volume   50_day_ma  200_day_ma  10_day_vol_avg  90_day_vol_avg  \n",
            "0     2906400         NaN         NaN             NaN             NaN  \n",
            "1     2222300         NaN         NaN             NaN             NaN  \n",
            "2     2758300         NaN         NaN             NaN             NaN  \n",
            "3     2290800         NaN         NaN             NaN             NaN  \n",
            "4     2324500         NaN         NaN             NaN             NaN  \n",
            "...       ...         ...         ...             ...             ...  \n",
            "3382  1173500  562.289801  478.136799       1337930.0    1.300671e+06  \n",
            "3383  1080600  564.523601  479.046799       1354910.0    1.302798e+06  \n",
            "3384  1344000  566.963201  479.988450       1382620.0    1.307190e+06  \n",
            "3385  1335500  569.929601  481.038449       1365230.0    1.312539e+06  \n",
            "3386  1179600  572.920001  481.995449       1365600.0    1.313528e+06  \n",
            "\n",
            "[3387 rows x 11 columns]\n",
            "[*********************100%***********************]  1 of 1 completed\n",
            "           Date        Open        High         Low       Close   Adj Close  \\\n",
            "0    2010-01-13   29.120001   29.299999   28.690001   29.160000   29.160000   \n",
            "1    2010-01-14   29.040001   29.430000   28.920000   29.280001   29.280001   \n",
            "2    2010-01-15   29.219999   29.219999   28.540001   28.730000   28.730000   \n",
            "3    2010-01-19   28.719999   28.900000   28.459999   28.700001   28.700001   \n",
            "4    2010-01-20   28.309999   28.850000   28.250000   28.770000   28.770000   \n",
            "...         ...         ...         ...         ...         ...         ...   \n",
            "3382 2023-06-22  136.539993  138.259995  136.210007  137.240005  137.240005   \n",
            "3383 2023-06-23  136.250000  136.699997  134.869995  135.080002  135.080002   \n",
            "3384 2023-06-26  135.679993  137.100006  134.970001  135.110001  135.110001   \n",
            "3385 2023-06-27  134.009995  137.250000  131.190002  137.059998  137.059998   \n",
            "3386 2023-06-28  137.089996  137.889999  134.979996  137.300003  137.300003   \n",
            "\n",
            "       Volume  50_day_ma  200_day_ma  10_day_vol_avg  90_day_vol_avg  \n",
            "0      454000        NaN         NaN             NaN             NaN  \n",
            "1      448700        NaN         NaN             NaN             NaN  \n",
            "2      962500        NaN         NaN             NaN             NaN  \n",
            "3      672400        NaN         NaN             NaN             NaN  \n",
            "4     1107300        NaN         NaN             NaN             NaN  \n",
            "...       ...        ...         ...             ...             ...  \n",
            "3382   440300   123.4196   112.96015        580050.0   490900.000000  \n",
            "3383   627100   123.7534   113.13285        604640.0   491900.000000  \n",
            "3384   323900   124.0708   113.30230        585620.0   490738.888889  \n",
            "3385   442100   124.4288   113.47500        578850.0   489558.888889  \n",
            "3386   327400   124.7942   113.64025        550730.0   489091.111111  \n",
            "\n",
            "[3387 rows x 11 columns]\n",
            "           Date        Open        High         Low       Close   Adj Close  \\\n",
            "0    2010-01-13   29.120001   29.299999   28.690001   29.160000   29.160000   \n",
            "1    2010-01-14   29.040001   29.430000   28.920000   29.280001   29.280001   \n",
            "2    2010-01-15   29.219999   29.219999   28.540001   28.730000   28.730000   \n",
            "3    2010-01-19   28.719999   28.900000   28.459999   28.700001   28.700001   \n",
            "4    2010-01-20   28.309999   28.850000   28.250000   28.770000   28.770000   \n",
            "...         ...         ...         ...         ...         ...         ...   \n",
            "3382 2023-06-22  136.539993  138.259995  136.210007  137.240005  137.240005   \n",
            "3383 2023-06-23  136.250000  136.699997  134.869995  135.080002  135.080002   \n",
            "3384 2023-06-26  135.679993  137.100006  134.970001  135.110001  135.110001   \n",
            "3385 2023-06-27  134.009995  137.250000  131.190002  137.059998  137.059998   \n",
            "3386 2023-06-28  137.089996  137.889999  134.979996  137.300003  137.300003   \n",
            "\n",
            "       Volume  50_day_ma  200_day_ma  10_day_vol_avg  90_day_vol_avg  \n",
            "0      454000        NaN         NaN             NaN             NaN  \n",
            "1      448700        NaN         NaN             NaN             NaN  \n",
            "2      962500        NaN         NaN             NaN             NaN  \n",
            "3      672400        NaN         NaN             NaN             NaN  \n",
            "4     1107300        NaN         NaN             NaN             NaN  \n",
            "...       ...        ...         ...             ...             ...  \n",
            "3382   440300   123.4196   112.96015        580050.0   490900.000000  \n",
            "3383   627100   123.7534   113.13285        604640.0   491900.000000  \n",
            "3384   323900   124.0708   113.30230        585620.0   490738.888889  \n",
            "3385   442100   124.4288   113.47500        578850.0   489558.888889  \n",
            "3386   327400   124.7942   113.64025        550730.0   489091.111111  \n",
            "\n",
            "[3387 rows x 11 columns]\n"
          ]
        }
      ]
    }
  ]
}